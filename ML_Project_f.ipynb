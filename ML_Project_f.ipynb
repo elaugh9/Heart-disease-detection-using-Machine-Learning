{
 "cells": [
  {
   "cell_type": "markdown",
   "metadata": {},
   "source": [
    "# Machine Learning Project"
   ]
  },
  {
   "cell_type": "markdown",
   "metadata": {},
   "source": [
    "### By:\n",
    "* Alanoud Alhakbani\n",
    "* Abeer Alessa\n",
    "* Elaf Almahmoud"
   ]
  },
  {
   "cell_type": "markdown",
   "metadata": {},
   "source": [
    "### What is the project about?\n",
    "Prediction of cardiovascular disease using Logistic Regression "
   ]
  },
  {
   "cell_type": "code",
   "execution_count": 1,
   "metadata": {},
   "outputs": [],
   "source": [
    "import numpy as np \n",
    "import pandas as pd\n",
    "import math \n",
    "import matplotlib.pyplot as plt\n",
    "from sklearn.utils import shuffle\n",
    "from sklearn.metrics import accuracy_score, precision_score\n",
    "from sklearn import model_selection\n",
    "from sklearn.linear_model import LogisticRegression\n",
    "from sklearn.model_selection import ShuffleSplit, learning_curve, train_test_split\n",
    "from sklearn.model_selection import KFold\n",
    "from sklearn.preprocessing import MinMaxScaler\n",
    "from sklearn.metrics import accuracy_score, precision_score, confusion_matrix, classification_report"
   ]
  },
  {
   "cell_type": "markdown",
   "metadata": {},
   "source": [
    "## Dataset "
   ]
  },
  {
   "cell_type": "markdown",
   "metadata": {},
   "source": [
    "### Downloading&Splitting the dataset"
   ]
  },
  {
   "cell_type": "code",
   "execution_count": 2,
   "metadata": {},
   "outputs": [
    {
     "data": {
      "text/html": [
       "<div>\n",
       "<style scoped>\n",
       "    .dataframe tbody tr th:only-of-type {\n",
       "        vertical-align: middle;\n",
       "    }\n",
       "\n",
       "    .dataframe tbody tr th {\n",
       "        vertical-align: top;\n",
       "    }\n",
       "\n",
       "    .dataframe thead th {\n",
       "        text-align: right;\n",
       "    }\n",
       "</style>\n",
       "<table border=\"1\" class=\"dataframe\">\n",
       "  <thead>\n",
       "    <tr style=\"text-align: right;\">\n",
       "      <th></th>\n",
       "      <th>age</th>\n",
       "      <th>sex</th>\n",
       "      <th>cp</th>\n",
       "      <th>trestbps</th>\n",
       "      <th>chol</th>\n",
       "      <th>fbs</th>\n",
       "      <th>restecg</th>\n",
       "      <th>thalach</th>\n",
       "      <th>exang</th>\n",
       "      <th>oldpeak</th>\n",
       "      <th>slope</th>\n",
       "      <th>ca</th>\n",
       "      <th>thal</th>\n",
       "      <th>target</th>\n",
       "    </tr>\n",
       "  </thead>\n",
       "  <tbody>\n",
       "    <tr>\n",
       "      <th>0</th>\n",
       "      <td>63</td>\n",
       "      <td>1</td>\n",
       "      <td>3</td>\n",
       "      <td>145</td>\n",
       "      <td>233</td>\n",
       "      <td>1</td>\n",
       "      <td>0</td>\n",
       "      <td>150</td>\n",
       "      <td>0</td>\n",
       "      <td>2.3</td>\n",
       "      <td>0</td>\n",
       "      <td>0</td>\n",
       "      <td>1</td>\n",
       "      <td>1</td>\n",
       "    </tr>\n",
       "    <tr>\n",
       "      <th>1</th>\n",
       "      <td>37</td>\n",
       "      <td>1</td>\n",
       "      <td>2</td>\n",
       "      <td>130</td>\n",
       "      <td>250</td>\n",
       "      <td>0</td>\n",
       "      <td>1</td>\n",
       "      <td>187</td>\n",
       "      <td>0</td>\n",
       "      <td>3.5</td>\n",
       "      <td>0</td>\n",
       "      <td>0</td>\n",
       "      <td>2</td>\n",
       "      <td>1</td>\n",
       "    </tr>\n",
       "    <tr>\n",
       "      <th>2</th>\n",
       "      <td>41</td>\n",
       "      <td>0</td>\n",
       "      <td>1</td>\n",
       "      <td>130</td>\n",
       "      <td>204</td>\n",
       "      <td>0</td>\n",
       "      <td>0</td>\n",
       "      <td>172</td>\n",
       "      <td>0</td>\n",
       "      <td>1.4</td>\n",
       "      <td>2</td>\n",
       "      <td>0</td>\n",
       "      <td>2</td>\n",
       "      <td>1</td>\n",
       "    </tr>\n",
       "    <tr>\n",
       "      <th>3</th>\n",
       "      <td>56</td>\n",
       "      <td>1</td>\n",
       "      <td>1</td>\n",
       "      <td>120</td>\n",
       "      <td>236</td>\n",
       "      <td>0</td>\n",
       "      <td>1</td>\n",
       "      <td>178</td>\n",
       "      <td>0</td>\n",
       "      <td>0.8</td>\n",
       "      <td>2</td>\n",
       "      <td>0</td>\n",
       "      <td>2</td>\n",
       "      <td>1</td>\n",
       "    </tr>\n",
       "    <tr>\n",
       "      <th>4</th>\n",
       "      <td>57</td>\n",
       "      <td>0</td>\n",
       "      <td>0</td>\n",
       "      <td>120</td>\n",
       "      <td>354</td>\n",
       "      <td>0</td>\n",
       "      <td>1</td>\n",
       "      <td>163</td>\n",
       "      <td>1</td>\n",
       "      <td>0.6</td>\n",
       "      <td>2</td>\n",
       "      <td>0</td>\n",
       "      <td>2</td>\n",
       "      <td>1</td>\n",
       "    </tr>\n",
       "  </tbody>\n",
       "</table>\n",
       "</div>"
      ],
      "text/plain": [
       "   age  sex  cp  trestbps  chol  fbs  restecg  thalach  exang  oldpeak  slope  \\\n",
       "0   63    1   3       145   233    1        0      150      0      2.3      0   \n",
       "1   37    1   2       130   250    0        1      187      0      3.5      0   \n",
       "2   41    0   1       130   204    0        0      172      0      1.4      2   \n",
       "3   56    1   1       120   236    0        1      178      0      0.8      2   \n",
       "4   57    0   0       120   354    0        1      163      1      0.6      2   \n",
       "\n",
       "   ca  thal  target  \n",
       "0   0     1       1  \n",
       "1   0     2       1  \n",
       "2   0     2       1  \n",
       "3   0     2       1  \n",
       "4   0     2       1  "
      ]
     },
     "execution_count": 2,
     "metadata": {},
     "output_type": "execute_result"
    }
   ],
   "source": [
    "#Load data\n",
    "dataset = pd.read_csv(\"heart.csv\")\n",
    "dataset = pd.DataFrame(dataset)\n",
    "\n",
    "#this will shaffule the data \n",
    "dataset.head()"
   ]
  },
  {
   "cell_type": "code",
   "execution_count": 3,
   "metadata": {},
   "outputs": [
    {
     "data": {
      "text/plain": [
       "(227, 14)"
      ]
     },
     "metadata": {},
     "output_type": "display_data"
    },
    {
     "data": {
      "text/plain": [
       "(76, 14)"
      ]
     },
     "metadata": {},
     "output_type": "display_data"
    },
    {
     "data": {
      "text/plain": [
       "(227,)"
      ]
     },
     "metadata": {},
     "output_type": "display_data"
    },
    {
     "data": {
      "text/plain": [
       "(76,)"
      ]
     },
     "metadata": {},
     "output_type": "display_data"
    }
   ],
   "source": [
    "# Set the Features and Target variable\n",
    "feature_cols = dataset.drop(['target'], axis = 1).columns\n",
    "dataset_x = dataset[feature_cols]\n",
    "\n",
    "dataset_x.insert(0, \"x\", np.ones(dataset_x.shape[0]), True)\n",
    "dataset_y = dataset.target\n",
    "\n",
    "# split the data into test/train\n",
    "train_set_x, test_set_x, train_set_y, test_set_y = train_test_split(dataset_x, dataset_y, test_size=0.25)\n",
    "display(train_set_x.shape, test_set_x.shape, train_set_y.shape, test_set_y.shape)"
   ]
  },
  {
   "cell_type": "markdown",
   "metadata": {},
   "source": [
    "## Functions"
   ]
  },
  {
   "cell_type": "code",
   "execution_count": 13,
   "metadata": {},
   "outputs": [],
   "source": [
    "def  normalizeFeatures(x1, x2):\n",
    "    \n",
    "    \"\"\"\n",
    "        input: x, the features matrix of size mXn as a pandas dataframe\n",
    "        output: normalized feature matrix \n",
    "    \"\"\"\n",
    "    scaler = MinMaxScaler()\n",
    "    X_train_scaled = scaler.fit_transform(x1)\n",
    "    X_test_scaled = scaler.transform(x2)\n",
    "    return X_train_scaled, X_test_scaled  "
   ]
  },
  {
   "cell_type": "code",
   "execution_count": 5,
   "metadata": {},
   "outputs": [],
   "source": [
    "def sigmoid(x):\n",
    "    \"\"\"\n",
    "        input: x\n",
    "        output: sigmoid(x)\n",
    "    \"\"\"\n",
    "    return 1/(1+np.exp(-x))"
   ]
  },
  {
   "cell_type": "code",
   "execution_count": 6,
   "metadata": {},
   "outputs": [],
   "source": [
    "def computeLRCost(x, y, theta, lambdaa):\n",
    "    \"\"\"\n",
    "        input: x,y,theta,lambda all numpy arrays, lambda number\n",
    "        output: logistic regression cost J(theta) with regularization (number), theta gradiants (numpy array)\n",
    "        \n",
    "    \"\"\"\n",
    "    grad = []\n",
    "    #x shape: (204,), theta shaep: (14,)\n",
    "    hypothesis = sigmoid(np.dot(x,theta))\n",
    "    error = (y*np.log(hypothesis)) + ((1-y)*np.log(1-hypothesis))\n",
    "   \n",
    "    cost = -sum(error)* 1/len(y)\n",
    "    reg_cost = cost + lambdaa*sum(theta**2)\n",
    "   \n",
    "\n",
    "    t = hypothesis - y\n",
    "    j_0 = sum(t)/len(y)\n",
    "    grad.append(j_0)\n",
    "    \n",
    "    i = 1\n",
    "    while(i<len(theta)):\n",
    "        j = np.dot(x[:,i],t)/len(y) + (lambdaa/len(y))*theta[i]\n",
    "        grad.append(j)\n",
    "        i+=1\n",
    "        \n",
    "    grad = np.asarray(grad)\n",
    "    return cost, grad"
   ]
  },
  {
   "cell_type": "code",
   "execution_count": 32,
   "metadata": {},
   "outputs": [],
   "source": [
    "def learnLRTheta(x, y, lambdaa):\n",
    "    \"\"\"\n",
    "        input: x,y,lambda \n",
    "        output: the best theta values for lambdaa value\n",
    "    \"\"\"\n",
    "    theta = np.zeros(x.shape[1]) # n+1 thetas = 14\n",
    "    lr = 0.03\n",
    "    \n",
    "    for i in range(9000): #check\n",
    "        cost, grad = computeLRCost(x,y,theta,lambdaa)\n",
    "        theta[0] = theta[0] - lr*grad[0]\n",
    "        theta[1:] = theta[1:] - lr*(grad[1:]+((lambdaa/len(y))*theta[1:]))\n",
    "        \n",
    "        \n",
    "    return theta"
   ]
  },
  {
   "cell_type": "code",
   "execution_count": 8,
   "metadata": {},
   "outputs": [],
   "source": [
    "def trainLRModel(x, y, lambda_values):\n",
    "    \"\"\"\n",
    "        input: x,y,lambda_valuse\n",
    "        output: the theta values for the best lambdaa value\n",
    "    \"\"\"\n",
    "    # losses for lambda values\n",
    "    valid_loss = []\n",
    "    train_loss = [] \n",
    "    # losses for each cross-val \n",
    "    train_scores = []\n",
    "    valid_scores = []\n",
    "    i = 1    \n",
    "    for lambdaa in lambda_values:\n",
    "        \n",
    "        train_scores.clear()\n",
    "        valid_scores.clear()\n",
    "        \n",
    "        #10 folds\n",
    "        cv = KFold(n_splits=10, random_state=42, shuffle=False)\n",
    "        for train_index, valid_index in cv.split(x):\n",
    "            x_train, x_valid, y_train, y_valid = x[train_index], x[valid_index], y[train_index], y[valid_index]\n",
    "            \n",
    "            theta = learnLRTheta(x_train, y_train, lambdaa)\n",
    "\n",
    "            loss, _ = computeLRCost(x_train, y_train, theta, lambdaa)\n",
    "            train_scores.append(loss)\n",
    "        \n",
    "            loss, _ = computeLRCost(x_valid, y_valid, theta, lambdaa)\n",
    "            valid_scores.append(loss)\n",
    "            \n",
    "        train_loss.append(np.mean(train_scores))\n",
    "        valid_loss.append(np.mean(valid_scores))  \n",
    "    \n",
    "\n",
    "    lambda_val = valid_loss.index(min(valid_loss))\n",
    "    theta = learnLRTheta(x,y,lambda_values[lambda_val])\n",
    "\n",
    "    plt.plot(lambda_values, train_loss, 'b-', label=\"train\")\n",
    "    plt.plot(lambda_values, valid_loss, 'y-', label=\"valid\")\n",
    "    plt.ylabel('train/valid loss')\n",
    "    plt.xlabel('lambda')\n",
    "    plt.show()\n",
    "    \n",
    "    return theta, lambda_val"
   ]
  },
  {
   "cell_type": "code",
   "execution_count": 9,
   "metadata": {},
   "outputs": [],
   "source": [
    "def predictClass(x, theta, threshold):\n",
    "    \n",
    "    y = []\n",
    "    theta = theta.reshape(theta.shape[0],1)\n",
    "    \n",
    "    for i in range(len(x)):\n",
    "        if sigmoid(np.dot(x[i],theta))>=threshold:\n",
    "            y.append(1)\n",
    "        else:\n",
    "            y.append(0)\n",
    "\n",
    "    return y"
   ]
  },
  {
   "cell_type": "code",
   "execution_count": 10,
   "metadata": {},
   "outputs": [],
   "source": [
    "from sklearn.metrics import confusion_matrix\n",
    "\n",
    "def testPerformance(y,y_predicted):\n",
    "    \n",
    "    cnf_matrix = confusion_matrix(y, y_predicted)\n",
    "    print('Confusion Matrix: ')\n",
    "    print(cnf_matrix)\n",
    "    TN, FP, FN, TP = cnf_matrix.ravel()\n",
    "\n",
    "    acc = (TP+TN)/cnf_matrix.sum()\n",
    "    # Sensitivity, hit rate, recall, or true positive rate\n",
    "    TPR = TP/(TP+FN) \n",
    "    # Precision or positive predictive value\n",
    "    PPV = TP/(TP+FP)\n",
    "    #F Score\n",
    "    F = 2*((PPV*TPR)/(PPV+TPR))\n",
    "    \n",
    "    return acc,TPR,PPV,F"
   ]
  },
  {
   "cell_type": "markdown",
   "metadata": {},
   "source": [
    "## Preprocessing"
   ]
  },
  {
   "cell_type": "code",
   "execution_count": 17,
   "metadata": {},
   "outputs": [],
   "source": [
    "train = train_set_x.to_numpy()\n",
    "test = test_set_x.to_numpy()\n",
    "\n",
    "train[0][0] = 0\n",
    "test[0][0] = 0\n",
    "\n",
    "X_train_scaled , X_test_scaled =  normalizeFeatures(train, test)\n",
    "\n",
    "X_train_scaled[0][0] = 1\n",
    "X_test_scaled[0][0] = 1"
   ]
  },
  {
   "cell_type": "markdown",
   "metadata": {},
   "source": [
    "## Training"
   ]
  },
  {
   "cell_type": "markdown",
   "metadata": {},
   "source": [
    "### Without feature normalization"
   ]
  },
  {
   "cell_type": "code",
   "execution_count": 24,
   "metadata": {},
   "outputs": [
    {
     "data": {
      "image/png": "[encoded data removed]",
      "text/plain": [
       "<Figure size 432x288 with 1 Axes>"
      ]
     },
     "metadata": {
      "needs_background": "light"
     },
     "output_type": "display_data"
    },
    {
     "name": "stdout",
     "output_type": "stream",
     "text": [
      "theta: [-0.01380483 -0.09776347 -0.23372718  0.54226925 -0.07499986 -0.02547868\n",
      "  0.017748    0.05049134  0.12537963 -0.22769922 -0.43526359  0.16185747\n",
      " -0.48365323 -0.26895312]\n",
      "lambda: 0\n"
     ]
    }
   ],
   "source": [
    "x1 = train_set_x.to_numpy()\n",
    "y1 = train_set_y.to_numpy()\n",
    "\n",
    "lambdaa_val = [0, 0.001, 0.003, 0.01, 0.03, 0.1, 0.3, 1, 3, 10] \n",
    "\n",
    "theta1, lambda_val1 = trainLRModel(x1,y1,lambdaa_val)\n",
    "print('theta: {}'.format(theta1))\n",
    "print('lambda: {}'.format(lambda_val1))"
   ]
  },
  {
   "cell_type": "markdown",
   "metadata": {},
   "source": [
    "### With feature normalization"
   ]
  },
  {
   "cell_type": "code",
   "execution_count": 33,
   "metadata": {},
   "outputs": [
    {
     "data": {
      "image/png": "[encoded data removed]",
      "text/plain": [
       "<Figure size 432x288 with 1 Axes>"
      ]
     },
     "metadata": {
      "needs_background": "light"
     },
     "output_type": "display_data"
    },
    {
     "name": "stdout",
     "output_type": "stream",
     "text": [
      "theta: [ 1.10437462 -0.93898694 -1.77571909  2.83510246 -0.90866312 -0.46196587\n",
      "  0.15529814  0.55509277  2.00671396 -0.96331771 -1.6303991   2.03535347\n",
      " -3.68962668 -1.50952588]\n",
      "lambda: 0\n"
     ]
    }
   ],
   "source": [
    "y2 = train_set_y.to_numpy()\n",
    "\n",
    "lambdaa_val = [0, 0.001, 0.003, 0.01, 0.03, 0.1, 0.3, 1, 3, 10] \n",
    "\n",
    "theta2, lambda_val2 = trainLRModel(X_train_scaled,y2,lambdaa_val)\n",
    "print('theta: {}'.format(theta2))\n",
    "print('lambda: {}'.format(lambda_val2))"
   ]
  },
  {
   "cell_type": "markdown",
   "metadata": {},
   "source": [
    "## Testing"
   ]
  },
  {
   "cell_type": "markdown",
   "metadata": {},
   "source": [
    "### Without feature normalization"
   ]
  },
  {
   "cell_type": "code",
   "execution_count": 25,
   "metadata": {},
   "outputs": [
    {
     "name": "stdout",
     "output_type": "stream",
     "text": [
      "Confusion Matrix: \n",
      "[[40  2]\n",
      " [18 16]]\n",
      "Accuracy: 0.7368421052631579\n",
      "TPR: 0.47058823529411764\n",
      "PPV: 0.8888888888888888\n",
      "F1: 0.6153846153846153\n"
     ]
    }
   ],
   "source": [
    "x1 = test_set_x.to_numpy()\n",
    "y1 = test_set_y.to_numpy()\n",
    "\n",
    "y_pred1 = predictClass(x1, theta1, 0.5)\n",
    "acc, TPR, PPV, F = testPerformance(y1, y_pred1)\n",
    "\n",
    "print('Accuracy: {}'.format(acc))\n",
    "print('TPR: {}'.format(TPR))\n",
    "print('PPV: {}'.format(PPV))\n",
    "print('F1: {}'.format(F))"
   ]
  },
  {
   "cell_type": "code",
   "execution_count": 26,
   "metadata": {},
   "outputs": [
    {
     "name": "stdout",
     "output_type": "stream",
     "text": [
      "Confusion Matrix:\n",
      "[[40  2]\n",
      " [18 16]]\n",
      "Classification report\n",
      "              precision    recall  f1-score   support\n",
      "\n",
      "           0       0.69      0.95      0.80        42\n",
      "           1       0.89      0.47      0.62        34\n",
      "\n",
      "   micro avg       0.74      0.74      0.74        76\n",
      "   macro avg       0.79      0.71      0.71        76\n",
      "weighted avg       0.78      0.74      0.72        76\n",
      "\n"
     ]
    }
   ],
   "source": [
    "print('Confusion Matrix:')\n",
    "print(confusion_matrix(y1, y_pred1))\n",
    "\n",
    "# Calculates: accuracy, recall, precision, and f-score\n",
    "print('Classification report')\n",
    "print (classification_report(y1, y_pred1))"
   ]
  },
  {
   "cell_type": "markdown",
   "metadata": {},
   "source": [
    "### With feature normalization"
   ]
  },
  {
   "cell_type": "code",
   "execution_count": 34,
   "metadata": {},
   "outputs": [
    {
     "name": "stdout",
     "output_type": "stream",
     "text": [
      "Confusion Matrix: \n",
      "[[32 10]\n",
      " [ 9 25]]\n",
      "Accuracy: 0.75\n",
      "TPR: 0.7352941176470589\n",
      "PPV: 0.7142857142857143\n",
      "F1: 0.7246376811594202\n"
     ]
    }
   ],
   "source": [
    "y2 = test_set_y.to_numpy()\n",
    "\n",
    "y_pred2 = predictClass(X_test_scaled, theta2, 0.5)\n",
    "acc, TPR, PPV, F = testPerformance(y2, y_pred2)\n",
    "\n",
    "print('Accuracy: {}'.format(acc))\n",
    "print('TPR: {}'.format(TPR))\n",
    "print('PPV: {}'.format(PPV))\n",
    "print('F1: {}'.format(F))"
   ]
  },
  {
   "cell_type": "code",
   "execution_count": 35,
   "metadata": {},
   "outputs": [
    {
     "name": "stdout",
     "output_type": "stream",
     "text": [
      "Confusion Matrix:\n",
      "[[32 10]\n",
      " [ 9 25]]\n",
      "Classification report\n",
      "              precision    recall  f1-score   support\n",
      "\n",
      "           0       0.78      0.76      0.77        42\n",
      "           1       0.71      0.74      0.72        34\n",
      "\n",
      "   micro avg       0.75      0.75      0.75        76\n",
      "   macro avg       0.75      0.75      0.75        76\n",
      "weighted avg       0.75      0.75      0.75        76\n",
      "\n"
     ]
    }
   ],
   "source": [
    "print('Confusion Matrix:')\n",
    "print(confusion_matrix(y2 , y_pred2))\n",
    "\n",
    "# Calculates: accuracy, recall, precision, and f-score\n",
    "print('Classification report')\n",
    "print (classification_report(y2 , y_pred2))"
   ]
  }
 ],
 "metadata": {
  "kernelspec": {
   "display_name": "Python 3",
   "language": "python",
   "name": "python3"
  },
  "language_info": {
   "codemirror_mode": {
    "name": "ipython",
    "version": 3
   },
   "file_extension": ".py",
   "mimetype": "text/x-python",
   "name": "python",
   "nbconvert_exporter": "python",
   "pygments_lexer": "ipython3",
   "version": "3.7.3"
  }
 },
 "nbformat": 4,
 "nbformat_minor": 2
}
